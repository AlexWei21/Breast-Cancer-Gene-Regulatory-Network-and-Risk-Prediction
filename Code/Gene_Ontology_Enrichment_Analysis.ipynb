{
 "cells": [
  {
   "cell_type": "code",
   "execution_count": 1,
   "outputs": [],
   "source": [
    "import pandas as pd"
   ],
   "metadata": {
    "collapsed": false,
    "pycharm": {
     "name": "#%%\n"
    }
   }
  },
  {
   "cell_type": "code",
   "execution_count": 5,
   "outputs": [],
   "source": [
    "GDE_Gene_Symbol = pd.read_csv(\"../Data/GDE_Gene_Symbol.csv\", index_col=0)"
   ],
   "metadata": {
    "collapsed": false,
    "pycharm": {
     "name": "#%%\n"
    }
   }
  },
  {
   "cell_type": "code",
   "execution_count": 6,
   "outputs": [
    {
     "data": {
      "text/plain": "44580"
     },
     "execution_count": 6,
     "metadata": {},
     "output_type": "execute_result"
    }
   ],
   "source": [
    "all_gene_names = GDE_Gene_Symbol.Gene_Symbol.to_list()\n",
    "all_gene_names = [x for x in all_gene_names if pd.isnull(x) == False]\n",
    "len(all_gene_names)"
   ],
   "metadata": {
    "collapsed": false,
    "pycharm": {
     "name": "#%%\n"
    }
   }
  },
  {
   "cell_type": "code",
   "execution_count": 7,
   "outputs": [],
   "source": [
    "with open('../Data/background_gene_names.txt', 'w') as f:\n",
    "    for line in all_gene_names:\n",
    "        f.write(line)\n",
    "        f.write('\\n')"
   ],
   "metadata": {
    "collapsed": false,
    "pycharm": {
     "name": "#%%\n"
    }
   }
  },
  {
   "cell_type": "code",
   "execution_count": 8,
   "outputs": [
    {
     "data": {
      "text/plain": "   Gene_Symbol  Log2FoldChange        pvalue\n23        SRP9        2.064513  2.746081e-73\n29       ACTR2        3.469549  4.021927e-66\n30        CFL1        3.175902  1.288561e-64\n36        ARF4        3.234822  2.122065e-60\n38        TPM3        2.380446  1.037584e-59",
      "text/html": "<div>\n<style scoped>\n    .dataframe tbody tr th:only-of-type {\n        vertical-align: middle;\n    }\n\n    .dataframe tbody tr th {\n        vertical-align: top;\n    }\n\n    .dataframe thead th {\n        text-align: right;\n    }\n</style>\n<table border=\"1\" class=\"dataframe\">\n  <thead>\n    <tr style=\"text-align: right;\">\n      <th></th>\n      <th>Gene_Symbol</th>\n      <th>Log2FoldChange</th>\n      <th>pvalue</th>\n    </tr>\n  </thead>\n  <tbody>\n    <tr>\n      <th>23</th>\n      <td>SRP9</td>\n      <td>2.064513</td>\n      <td>2.746081e-73</td>\n    </tr>\n    <tr>\n      <th>29</th>\n      <td>ACTR2</td>\n      <td>3.469549</td>\n      <td>4.021927e-66</td>\n    </tr>\n    <tr>\n      <th>30</th>\n      <td>CFL1</td>\n      <td>3.175902</td>\n      <td>1.288561e-64</td>\n    </tr>\n    <tr>\n      <th>36</th>\n      <td>ARF4</td>\n      <td>3.234822</td>\n      <td>2.122065e-60</td>\n    </tr>\n    <tr>\n      <th>38</th>\n      <td>TPM3</td>\n      <td>2.380446</td>\n      <td>1.037584e-59</td>\n    </tr>\n  </tbody>\n</table>\n</div>"
     },
     "execution_count": 8,
     "metadata": {},
     "output_type": "execute_result"
    }
   ],
   "source": [
    "up_regulate, down_regulate = [x for _, x in GDE_Gene_Symbol.groupby(GDE_Gene_Symbol['Log2FoldChange'] < 0)]\n",
    "up_regulate.head()"
   ],
   "metadata": {
    "collapsed": false,
    "pycharm": {
     "name": "#%%\n"
    }
   }
  },
  {
   "cell_type": "code",
   "execution_count": 9,
   "outputs": [
    {
     "data": {
      "text/plain": "  Gene_Symbol  Log2FoldChange         pvalue\n0      FRG1BP       -3.895427  1.976371e-172\n1  ANKRD20A3P       -3.142684  4.389347e-131\n2         LEP       -5.703383  7.752915e-129\n3      SH3GL3       -3.256370  1.131555e-126\n4     CD300LG       -4.417230  1.166193e-125",
      "text/html": "<div>\n<style scoped>\n    .dataframe tbody tr th:only-of-type {\n        vertical-align: middle;\n    }\n\n    .dataframe tbody tr th {\n        vertical-align: top;\n    }\n\n    .dataframe thead th {\n        text-align: right;\n    }\n</style>\n<table border=\"1\" class=\"dataframe\">\n  <thead>\n    <tr style=\"text-align: right;\">\n      <th></th>\n      <th>Gene_Symbol</th>\n      <th>Log2FoldChange</th>\n      <th>pvalue</th>\n    </tr>\n  </thead>\n  <tbody>\n    <tr>\n      <th>0</th>\n      <td>FRG1BP</td>\n      <td>-3.895427</td>\n      <td>1.976371e-172</td>\n    </tr>\n    <tr>\n      <th>1</th>\n      <td>ANKRD20A3P</td>\n      <td>-3.142684</td>\n      <td>4.389347e-131</td>\n    </tr>\n    <tr>\n      <th>2</th>\n      <td>LEP</td>\n      <td>-5.703383</td>\n      <td>7.752915e-129</td>\n    </tr>\n    <tr>\n      <th>3</th>\n      <td>SH3GL3</td>\n      <td>-3.256370</td>\n      <td>1.131555e-126</td>\n    </tr>\n    <tr>\n      <th>4</th>\n      <td>CD300LG</td>\n      <td>-4.417230</td>\n      <td>1.166193e-125</td>\n    </tr>\n  </tbody>\n</table>\n</div>"
     },
     "execution_count": 9,
     "metadata": {},
     "output_type": "execute_result"
    }
   ],
   "source": [
    "down_regulate.head()"
   ],
   "metadata": {
    "collapsed": false,
    "pycharm": {
     "name": "#%%\n"
    }
   }
  },
  {
   "cell_type": "code",
   "execution_count": 10,
   "outputs": [],
   "source": [
    "up_gene_names = up_regulate.Gene_Symbol.to_list()\n",
    "up_gene_names = [x for x in up_gene_names if pd.isnull(x) == False]\n",
    "top_up_100_genes = up_gene_names[:100]"
   ],
   "metadata": {
    "collapsed": false,
    "pycharm": {
     "name": "#%%\n"
    }
   }
  },
  {
   "cell_type": "code",
   "execution_count": 11,
   "outputs": [],
   "source": [
    "down_gene_names = down_regulate.Gene_Symbol.to_list()\n",
    "down_gene_names = [x for x in down_gene_names if pd.isnull(x) == False]\n",
    "top_down_100_genes = down_gene_names[:100]"
   ],
   "metadata": {
    "collapsed": false,
    "pycharm": {
     "name": "#%%\n"
    }
   }
  },
  {
   "cell_type": "code",
   "execution_count": 12,
   "outputs": [],
   "source": [
    "with open('../Data/top_up_100_gene_names.txt', 'w') as f:\n",
    "    for line in top_up_100_genes:\n",
    "        f.write(line)\n",
    "        f.write('\\n')\n",
    "\n",
    "with open('../Data/top_down_100_gene_names.txt', 'w') as f:\n",
    "    for line in top_down_100_genes:\n",
    "        f.write(line)\n",
    "        f.write('\\n')"
   ],
   "metadata": {
    "collapsed": false,
    "pycharm": {
     "name": "#%%\n"
    }
   }
  },
  {
   "cell_type": "code",
   "execution_count": 27,
   "outputs": [
    {
     "data": {
      "text/plain": "     Gene_Symbol  Log2FoldChange        pvalue\n23          SRP9        2.064513  2.746081e-73\n29         ACTR2        3.469549  4.021927e-66\n30          CFL1        3.175902  1.288561e-64\n36          ARF4        3.234822  2.122065e-60\n38          TPM3        2.380446  1.037584e-59\n...          ...             ...           ...\n1494         VCP        1.430555  9.164859e-21\n1495        RPN1        1.439617  9.605559e-21\n1496       EXOC5        1.517576  9.821237e-21\n1497       BECN1        1.399777  9.876313e-21\n1498      EBLN3P        1.572225  9.937718e-21\n\n[1257 rows x 3 columns]",
      "text/html": "<div>\n<style scoped>\n    .dataframe tbody tr th:only-of-type {\n        vertical-align: middle;\n    }\n\n    .dataframe tbody tr th {\n        vertical-align: top;\n    }\n\n    .dataframe thead th {\n        text-align: right;\n    }\n</style>\n<table border=\"1\" class=\"dataframe\">\n  <thead>\n    <tr style=\"text-align: right;\">\n      <th></th>\n      <th>Gene_Symbol</th>\n      <th>Log2FoldChange</th>\n      <th>pvalue</th>\n    </tr>\n  </thead>\n  <tbody>\n    <tr>\n      <th>23</th>\n      <td>SRP9</td>\n      <td>2.064513</td>\n      <td>2.746081e-73</td>\n    </tr>\n    <tr>\n      <th>29</th>\n      <td>ACTR2</td>\n      <td>3.469549</td>\n      <td>4.021927e-66</td>\n    </tr>\n    <tr>\n      <th>30</th>\n      <td>CFL1</td>\n      <td>3.175902</td>\n      <td>1.288561e-64</td>\n    </tr>\n    <tr>\n      <th>36</th>\n      <td>ARF4</td>\n      <td>3.234822</td>\n      <td>2.122065e-60</td>\n    </tr>\n    <tr>\n      <th>38</th>\n      <td>TPM3</td>\n      <td>2.380446</td>\n      <td>1.037584e-59</td>\n    </tr>\n    <tr>\n      <th>...</th>\n      <td>...</td>\n      <td>...</td>\n      <td>...</td>\n    </tr>\n    <tr>\n      <th>1494</th>\n      <td>VCP</td>\n      <td>1.430555</td>\n      <td>9.164859e-21</td>\n    </tr>\n    <tr>\n      <th>1495</th>\n      <td>RPN1</td>\n      <td>1.439617</td>\n      <td>9.605559e-21</td>\n    </tr>\n    <tr>\n      <th>1496</th>\n      <td>EXOC5</td>\n      <td>1.517576</td>\n      <td>9.821237e-21</td>\n    </tr>\n    <tr>\n      <th>1497</th>\n      <td>BECN1</td>\n      <td>1.399777</td>\n      <td>9.876313e-21</td>\n    </tr>\n    <tr>\n      <th>1498</th>\n      <td>EBLN3P</td>\n      <td>1.572225</td>\n      <td>9.937718e-21</td>\n    </tr>\n  </tbody>\n</table>\n<p>1257 rows × 3 columns</p>\n</div>"
     },
     "execution_count": 27,
     "metadata": {},
     "output_type": "execute_result"
    }
   ],
   "source": [
    "up_regulate.pvalue = pd.to_numeric(up_regulate.pvalue)\n",
    "significant_up_genes = up_regulate[up_regulate['pvalue'] < 10**-20]\n",
    "significant_up_genes"
   ],
   "metadata": {
    "collapsed": false,
    "pycharm": {
     "name": "#%%\n"
    }
   }
  },
  {
   "cell_type": "code",
   "execution_count": 30,
   "outputs": [
    {
     "data": {
      "text/plain": "1236"
     },
     "execution_count": 30,
     "metadata": {},
     "output_type": "execute_result"
    }
   ],
   "source": [
    "sig_up_gene_names = significant_up_genes.Gene_Symbol.to_list()\n",
    "sig_up_gene_names = [x for x in sig_up_gene_names if pd.isnull(x) == False]\n",
    "len(sig_up_gene_names)"
   ],
   "metadata": {
    "collapsed": false,
    "pycharm": {
     "name": "#%%\n"
    }
   }
  },
  {
   "cell_type": "code",
   "execution_count": 28,
   "outputs": [
    {
     "data": {
      "text/plain": "     Gene_Symbol  Log2FoldChange         pvalue\n0         FRG1BP       -3.895427  1.976371e-172\n1     ANKRD20A3P       -3.142684  4.389347e-131\n2            LEP       -5.703383  7.752915e-129\n3         SH3GL3       -3.256370  1.131555e-126\n4        CD300LG       -4.417230  1.166193e-125\n...          ...             ...            ...\n1479       OR5H1       -1.373332   7.474781e-21\n1484    MIR497HG       -0.980445   7.984739e-21\n1487     HEPACAM       -1.973271   8.223020e-21\n1491         TAT       -1.532222   8.409410e-21\n1493         NaN       -1.148446   8.691493e-21\n\n[242 rows x 3 columns]",
      "text/html": "<div>\n<style scoped>\n    .dataframe tbody tr th:only-of-type {\n        vertical-align: middle;\n    }\n\n    .dataframe tbody tr th {\n        vertical-align: top;\n    }\n\n    .dataframe thead th {\n        text-align: right;\n    }\n</style>\n<table border=\"1\" class=\"dataframe\">\n  <thead>\n    <tr style=\"text-align: right;\">\n      <th></th>\n      <th>Gene_Symbol</th>\n      <th>Log2FoldChange</th>\n      <th>pvalue</th>\n    </tr>\n  </thead>\n  <tbody>\n    <tr>\n      <th>0</th>\n      <td>FRG1BP</td>\n      <td>-3.895427</td>\n      <td>1.976371e-172</td>\n    </tr>\n    <tr>\n      <th>1</th>\n      <td>ANKRD20A3P</td>\n      <td>-3.142684</td>\n      <td>4.389347e-131</td>\n    </tr>\n    <tr>\n      <th>2</th>\n      <td>LEP</td>\n      <td>-5.703383</td>\n      <td>7.752915e-129</td>\n    </tr>\n    <tr>\n      <th>3</th>\n      <td>SH3GL3</td>\n      <td>-3.256370</td>\n      <td>1.131555e-126</td>\n    </tr>\n    <tr>\n      <th>4</th>\n      <td>CD300LG</td>\n      <td>-4.417230</td>\n      <td>1.166193e-125</td>\n    </tr>\n    <tr>\n      <th>...</th>\n      <td>...</td>\n      <td>...</td>\n      <td>...</td>\n    </tr>\n    <tr>\n      <th>1479</th>\n      <td>OR5H1</td>\n      <td>-1.373332</td>\n      <td>7.474781e-21</td>\n    </tr>\n    <tr>\n      <th>1484</th>\n      <td>MIR497HG</td>\n      <td>-0.980445</td>\n      <td>7.984739e-21</td>\n    </tr>\n    <tr>\n      <th>1487</th>\n      <td>HEPACAM</td>\n      <td>-1.973271</td>\n      <td>8.223020e-21</td>\n    </tr>\n    <tr>\n      <th>1491</th>\n      <td>TAT</td>\n      <td>-1.532222</td>\n      <td>8.409410e-21</td>\n    </tr>\n    <tr>\n      <th>1493</th>\n      <td>NaN</td>\n      <td>-1.148446</td>\n      <td>8.691493e-21</td>\n    </tr>\n  </tbody>\n</table>\n<p>242 rows × 3 columns</p>\n</div>"
     },
     "execution_count": 28,
     "metadata": {},
     "output_type": "execute_result"
    }
   ],
   "source": [
    "down_regulate.pvalue = pd.to_numeric(down_regulate.pvalue)\n",
    "significant_down_genes = down_regulate[down_regulate['pvalue'] < 10**-20]\n",
    "significant_down_genes"
   ],
   "metadata": {
    "collapsed": false,
    "pycharm": {
     "name": "#%%\n"
    }
   }
  },
  {
   "cell_type": "code",
   "execution_count": 31,
   "outputs": [
    {
     "data": {
      "text/plain": "173"
     },
     "execution_count": 31,
     "metadata": {},
     "output_type": "execute_result"
    }
   ],
   "source": [
    "sig_down_gene_names = significant_down_genes.Gene_Symbol.to_list()\n",
    "sig_down_gene_names = [x for x in sig_down_gene_names if pd.isnull(x) == False]\n",
    "len(sig_down_gene_names)"
   ],
   "metadata": {
    "collapsed": false,
    "pycharm": {
     "name": "#%%\n"
    }
   }
  },
  {
   "cell_type": "code",
   "execution_count": 32,
   "outputs": [],
   "source": [
    "with open('../Data/sig_up_gene_names.txt', 'w') as f:\n",
    "    for line in sig_up_gene_names:\n",
    "        f.write(line)\n",
    "        f.write('\\n')\n",
    "\n",
    "with open('../Data/sig_down_gene_names.txt', 'w') as f:\n",
    "    for line in sig_down_gene_names:\n",
    "        f.write(line)\n",
    "        f.write('\\n')"
   ],
   "metadata": {
    "collapsed": false,
    "pycharm": {
     "name": "#%%\n"
    }
   }
  },
  {
   "cell_type": "code",
   "execution_count": null,
   "outputs": [],
   "source": [],
   "metadata": {
    "collapsed": false,
    "pycharm": {
     "name": "#%%\n"
    }
   }
  }
 ],
 "metadata": {
  "kernelspec": {
   "display_name": "Python 3",
   "language": "python",
   "name": "python3"
  },
  "language_info": {
   "codemirror_mode": {
    "name": "ipython",
    "version": 2
   },
   "file_extension": ".py",
   "mimetype": "text/x-python",
   "name": "python",
   "nbconvert_exporter": "python",
   "pygments_lexer": "ipython2",
   "version": "2.7.6"
  }
 },
 "nbformat": 4,
 "nbformat_minor": 0
}