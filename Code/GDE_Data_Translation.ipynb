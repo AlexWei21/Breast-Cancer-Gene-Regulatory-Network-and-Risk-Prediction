{
 "cells": [
  {
   "cell_type": "code",
   "execution_count": 2,
   "metadata": {
    "collapsed": true,
    "pycharm": {
     "name": "#%%\n"
    }
   },
   "outputs": [],
   "source": [
    "import pandas as pd"
   ]
  },
  {
   "cell_type": "code",
   "execution_count": 8,
   "outputs": [
    {
     "data": {
      "text/plain": "     Unnamed: 0  Log2FoldChange  Ordered$pvalue\n0   243689_s_at       -3.895427   1.976371e-172\n1     224012_at       -3.142684   4.389347e-131\n2     207092_at       -5.703383   7.752915e-129\n3     211565_at       -3.256370   1.131555e-126\n4  1552509_a_at       -4.417230   1.166193e-125",
      "text/html": "<div>\n<style scoped>\n    .dataframe tbody tr th:only-of-type {\n        vertical-align: middle;\n    }\n\n    .dataframe tbody tr th {\n        vertical-align: top;\n    }\n\n    .dataframe thead th {\n        text-align: right;\n    }\n</style>\n<table border=\"1\" class=\"dataframe\">\n  <thead>\n    <tr style=\"text-align: right;\">\n      <th></th>\n      <th>Unnamed: 0</th>\n      <th>Log2FoldChange</th>\n      <th>Ordered$pvalue</th>\n    </tr>\n  </thead>\n  <tbody>\n    <tr>\n      <th>0</th>\n      <td>243689_s_at</td>\n      <td>-3.895427</td>\n      <td>1.976371e-172</td>\n    </tr>\n    <tr>\n      <th>1</th>\n      <td>224012_at</td>\n      <td>-3.142684</td>\n      <td>4.389347e-131</td>\n    </tr>\n    <tr>\n      <th>2</th>\n      <td>207092_at</td>\n      <td>-5.703383</td>\n      <td>7.752915e-129</td>\n    </tr>\n    <tr>\n      <th>3</th>\n      <td>211565_at</td>\n      <td>-3.256370</td>\n      <td>1.131555e-126</td>\n    </tr>\n    <tr>\n      <th>4</th>\n      <td>1552509_a_at</td>\n      <td>-4.417230</td>\n      <td>1.166193e-125</td>\n    </tr>\n  </tbody>\n</table>\n</div>"
     },
     "execution_count": 8,
     "metadata": {},
     "output_type": "execute_result"
    }
   ],
   "source": [
    "GDE_Data = pd.read_csv(\"../Data/GDE_Outcome.csv\")\n",
    "GDE_Data.head()"
   ],
   "metadata": {
    "collapsed": false,
    "pycharm": {
     "name": "#%%\n"
    }
   }
  },
  {
   "cell_type": "code",
   "execution_count": 9,
   "outputs": [
    {
     "data": {
      "text/plain": "        Affy_id  Log2FoldChange  Ordered$pvalue\n0   243689_s_at       -3.895427   1.976371e-172\n1     224012_at       -3.142684   4.389347e-131\n2     207092_at       -5.703383   7.752915e-129\n3     211565_at       -3.256370   1.131555e-126\n4  1552509_a_at       -4.417230   1.166193e-125",
      "text/html": "<div>\n<style scoped>\n    .dataframe tbody tr th:only-of-type {\n        vertical-align: middle;\n    }\n\n    .dataframe tbody tr th {\n        vertical-align: top;\n    }\n\n    .dataframe thead th {\n        text-align: right;\n    }\n</style>\n<table border=\"1\" class=\"dataframe\">\n  <thead>\n    <tr style=\"text-align: right;\">\n      <th></th>\n      <th>Affy_id</th>\n      <th>Log2FoldChange</th>\n      <th>Ordered$pvalue</th>\n    </tr>\n  </thead>\n  <tbody>\n    <tr>\n      <th>0</th>\n      <td>243689_s_at</td>\n      <td>-3.895427</td>\n      <td>1.976371e-172</td>\n    </tr>\n    <tr>\n      <th>1</th>\n      <td>224012_at</td>\n      <td>-3.142684</td>\n      <td>4.389347e-131</td>\n    </tr>\n    <tr>\n      <th>2</th>\n      <td>207092_at</td>\n      <td>-5.703383</td>\n      <td>7.752915e-129</td>\n    </tr>\n    <tr>\n      <th>3</th>\n      <td>211565_at</td>\n      <td>-3.256370</td>\n      <td>1.131555e-126</td>\n    </tr>\n    <tr>\n      <th>4</th>\n      <td>1552509_a_at</td>\n      <td>-4.417230</td>\n      <td>1.166193e-125</td>\n    </tr>\n  </tbody>\n</table>\n</div>"
     },
     "execution_count": 9,
     "metadata": {},
     "output_type": "execute_result"
    }
   ],
   "source": [
    "GDE_Data = GDE_Data.rename(columns={'Unnamed: 0': 'Affy_id'})\n",
    "GDE_Data.head()"
   ],
   "metadata": {
    "collapsed": false,
    "pycharm": {
     "name": "#%%\n"
    }
   }
  },
  {
   "cell_type": "code",
   "execution_count": 6,
   "outputs": [
    {
     "data": {
      "text/plain": "          From         To       Species  \\\n0  216232_s_at       GCN1  Homo sapiens   \n1    220116_at      KCNN2  Homo sapiens   \n2    219127_at     PRR15L  Homo sapiens   \n3    225804_at     CYB5D2  Homo sapiens   \n4   1557848_at  LINC02401  Homo sapiens   \n\n                                           Gene Name  \n0                    GCN1 activator of EIF2AK4(GCN1)  \n1  potassium calcium-activated channel subfamily ...  \n2                       proline rich 15 like(PRR15L)  \n3          cytochrome b5 domain containing 2(CYB5D2)  \n4  long intergenic non-protein coding RNA 2401(LI...  ",
      "text/html": "<div>\n<style scoped>\n    .dataframe tbody tr th:only-of-type {\n        vertical-align: middle;\n    }\n\n    .dataframe tbody tr th {\n        vertical-align: top;\n    }\n\n    .dataframe thead th {\n        text-align: right;\n    }\n</style>\n<table border=\"1\" class=\"dataframe\">\n  <thead>\n    <tr style=\"text-align: right;\">\n      <th></th>\n      <th>From</th>\n      <th>To</th>\n      <th>Species</th>\n      <th>Gene Name</th>\n    </tr>\n  </thead>\n  <tbody>\n    <tr>\n      <th>0</th>\n      <td>216232_s_at</td>\n      <td>GCN1</td>\n      <td>Homo sapiens</td>\n      <td>GCN1 activator of EIF2AK4(GCN1)</td>\n    </tr>\n    <tr>\n      <th>1</th>\n      <td>220116_at</td>\n      <td>KCNN2</td>\n      <td>Homo sapiens</td>\n      <td>potassium calcium-activated channel subfamily ...</td>\n    </tr>\n    <tr>\n      <th>2</th>\n      <td>219127_at</td>\n      <td>PRR15L</td>\n      <td>Homo sapiens</td>\n      <td>proline rich 15 like(PRR15L)</td>\n    </tr>\n    <tr>\n      <th>3</th>\n      <td>225804_at</td>\n      <td>CYB5D2</td>\n      <td>Homo sapiens</td>\n      <td>cytochrome b5 domain containing 2(CYB5D2)</td>\n    </tr>\n    <tr>\n      <th>4</th>\n      <td>1557848_at</td>\n      <td>LINC02401</td>\n      <td>Homo sapiens</td>\n      <td>long intergenic non-protein coding RNA 2401(LI...</td>\n    </tr>\n  </tbody>\n</table>\n</div>"
     },
     "execution_count": 6,
     "metadata": {},
     "output_type": "execute_result"
    }
   ],
   "source": [
    "Translation_Table = pd.read_csv(\"../Data/DAVID_id_convertion.txt\", sep='\\t')\n",
    "Translation_Table.head()"
   ],
   "metadata": {
    "collapsed": false,
    "pycharm": {
     "name": "#%%\n"
    }
   }
  },
  {
   "cell_type": "code",
   "execution_count": 10,
   "outputs": [
    {
     "data": {
      "text/plain": "            Affy_id  Log2FoldChange  Ordered$pvalue          From          To  \\\n0       243689_s_at       -3.895427   1.976371e-172   243689_s_at      FRG1BP   \n1         224012_at       -3.142684   4.389347e-131     224012_at  ANKRD20A3P   \n2         207092_at       -5.703383   7.752915e-129     207092_at         LEP   \n3         211565_at       -3.256370   1.131555e-126     211565_at      SH3GL3   \n4      1552509_a_at       -4.417230   1.166193e-125  1552509_a_at     CD300LG   \n...             ...             ...             ...           ...         ...   \n54670     215244_at        0.000058    9.996523e-01     215244_at       DGCR5   \n54671     216200_at       -0.000050    9.997570e-01     216200_at     PLEKHM1   \n54672   205735_s_at        0.000046    9.998126e-01   205735_s_at        AFF3   \n54673  1553701_a_at       -0.000015    9.998464e-01  1553701_a_at      DUSP18   \n54674    1555629_at       -0.000014    9.999264e-01    1555629_at      HAVCR2   \n\n            Species                                          Gene Name  \n0      Homo sapiens  FSHD region gene 1 family member B, pseudogene...  \n1      Homo sapiens  ankyrin repeat domain 20 family member A3, pse...  \n2      Homo sapiens                                        leptin(LEP)  \n3      Homo sapiens  SH3 domain containing GRB2 like 3, endophilin ...  \n4      Homo sapiens       CD300 molecule like family member g(CD300LG)  \n...             ...                                                ...  \n54670  Homo sapiens    DiGeorge syndrome critical region gene 5(DGCR5)  \n54671  Homo sapiens  pleckstrin homology and RUN domain containing ...  \n54672  Homo sapiens                     AF4/FMR2 family member 3(AFF3)  \n54673  Homo sapiens            dual specificity phosphatase 18(DUSP18)  \n54674  Homo sapiens      hepatitis A virus cellular receptor 2(HAVCR2)  \n\n[54675 rows x 7 columns]",
      "text/html": "<div>\n<style scoped>\n    .dataframe tbody tr th:only-of-type {\n        vertical-align: middle;\n    }\n\n    .dataframe tbody tr th {\n        vertical-align: top;\n    }\n\n    .dataframe thead th {\n        text-align: right;\n    }\n</style>\n<table border=\"1\" class=\"dataframe\">\n  <thead>\n    <tr style=\"text-align: right;\">\n      <th></th>\n      <th>Affy_id</th>\n      <th>Log2FoldChange</th>\n      <th>Ordered$pvalue</th>\n      <th>From</th>\n      <th>To</th>\n      <th>Species</th>\n      <th>Gene Name</th>\n    </tr>\n  </thead>\n  <tbody>\n    <tr>\n      <th>0</th>\n      <td>243689_s_at</td>\n      <td>-3.895427</td>\n      <td>1.976371e-172</td>\n      <td>243689_s_at</td>\n      <td>FRG1BP</td>\n      <td>Homo sapiens</td>\n      <td>FSHD region gene 1 family member B, pseudogene...</td>\n    </tr>\n    <tr>\n      <th>1</th>\n      <td>224012_at</td>\n      <td>-3.142684</td>\n      <td>4.389347e-131</td>\n      <td>224012_at</td>\n      <td>ANKRD20A3P</td>\n      <td>Homo sapiens</td>\n      <td>ankyrin repeat domain 20 family member A3, pse...</td>\n    </tr>\n    <tr>\n      <th>2</th>\n      <td>207092_at</td>\n      <td>-5.703383</td>\n      <td>7.752915e-129</td>\n      <td>207092_at</td>\n      <td>LEP</td>\n      <td>Homo sapiens</td>\n      <td>leptin(LEP)</td>\n    </tr>\n    <tr>\n      <th>3</th>\n      <td>211565_at</td>\n      <td>-3.256370</td>\n      <td>1.131555e-126</td>\n      <td>211565_at</td>\n      <td>SH3GL3</td>\n      <td>Homo sapiens</td>\n      <td>SH3 domain containing GRB2 like 3, endophilin ...</td>\n    </tr>\n    <tr>\n      <th>4</th>\n      <td>1552509_a_at</td>\n      <td>-4.417230</td>\n      <td>1.166193e-125</td>\n      <td>1552509_a_at</td>\n      <td>CD300LG</td>\n      <td>Homo sapiens</td>\n      <td>CD300 molecule like family member g(CD300LG)</td>\n    </tr>\n    <tr>\n      <th>...</th>\n      <td>...</td>\n      <td>...</td>\n      <td>...</td>\n      <td>...</td>\n      <td>...</td>\n      <td>...</td>\n      <td>...</td>\n    </tr>\n    <tr>\n      <th>54670</th>\n      <td>215244_at</td>\n      <td>0.000058</td>\n      <td>9.996523e-01</td>\n      <td>215244_at</td>\n      <td>DGCR5</td>\n      <td>Homo sapiens</td>\n      <td>DiGeorge syndrome critical region gene 5(DGCR5)</td>\n    </tr>\n    <tr>\n      <th>54671</th>\n      <td>216200_at</td>\n      <td>-0.000050</td>\n      <td>9.997570e-01</td>\n      <td>216200_at</td>\n      <td>PLEKHM1</td>\n      <td>Homo sapiens</td>\n      <td>pleckstrin homology and RUN domain containing ...</td>\n    </tr>\n    <tr>\n      <th>54672</th>\n      <td>205735_s_at</td>\n      <td>0.000046</td>\n      <td>9.998126e-01</td>\n      <td>205735_s_at</td>\n      <td>AFF3</td>\n      <td>Homo sapiens</td>\n      <td>AF4/FMR2 family member 3(AFF3)</td>\n    </tr>\n    <tr>\n      <th>54673</th>\n      <td>1553701_a_at</td>\n      <td>-0.000015</td>\n      <td>9.998464e-01</td>\n      <td>1553701_a_at</td>\n      <td>DUSP18</td>\n      <td>Homo sapiens</td>\n      <td>dual specificity phosphatase 18(DUSP18)</td>\n    </tr>\n    <tr>\n      <th>54674</th>\n      <td>1555629_at</td>\n      <td>-0.000014</td>\n      <td>9.999264e-01</td>\n      <td>1555629_at</td>\n      <td>HAVCR2</td>\n      <td>Homo sapiens</td>\n      <td>hepatitis A virus cellular receptor 2(HAVCR2)</td>\n    </tr>\n  </tbody>\n</table>\n<p>54675 rows × 7 columns</p>\n</div>"
     },
     "execution_count": 10,
     "metadata": {},
     "output_type": "execute_result"
    }
   ],
   "source": [
    "Translated_GDE = GDE_Data.merge(right = Translation_Table, left_on = 'Affy_id', right_on='From', how='left')\n",
    "Translated_GDE"
   ],
   "metadata": {
    "collapsed": false,
    "pycharm": {
     "name": "#%%\n"
    }
   }
  },
  {
   "cell_type": "code",
   "execution_count": 13,
   "outputs": [
    {
     "data": {
      "text/plain": "  Gene_Symbol  Log2FoldChange         pvalue\n0      FRG1BP       -3.895427  1.976371e-172\n1  ANKRD20A3P       -3.142684  4.389347e-131\n2         LEP       -5.703383  7.752915e-129\n3      SH3GL3       -3.256370  1.131555e-126\n4     CD300LG       -4.417230  1.166193e-125",
      "text/html": "<div>\n<style scoped>\n    .dataframe tbody tr th:only-of-type {\n        vertical-align: middle;\n    }\n\n    .dataframe tbody tr th {\n        vertical-align: top;\n    }\n\n    .dataframe thead th {\n        text-align: right;\n    }\n</style>\n<table border=\"1\" class=\"dataframe\">\n  <thead>\n    <tr style=\"text-align: right;\">\n      <th></th>\n      <th>Gene_Symbol</th>\n      <th>Log2FoldChange</th>\n      <th>pvalue</th>\n    </tr>\n  </thead>\n  <tbody>\n    <tr>\n      <th>0</th>\n      <td>FRG1BP</td>\n      <td>-3.895427</td>\n      <td>1.976371e-172</td>\n    </tr>\n    <tr>\n      <th>1</th>\n      <td>ANKRD20A3P</td>\n      <td>-3.142684</td>\n      <td>4.389347e-131</td>\n    </tr>\n    <tr>\n      <th>2</th>\n      <td>LEP</td>\n      <td>-5.703383</td>\n      <td>7.752915e-129</td>\n    </tr>\n    <tr>\n      <th>3</th>\n      <td>SH3GL3</td>\n      <td>-3.256370</td>\n      <td>1.131555e-126</td>\n    </tr>\n    <tr>\n      <th>4</th>\n      <td>CD300LG</td>\n      <td>-4.417230</td>\n      <td>1.166193e-125</td>\n    </tr>\n  </tbody>\n</table>\n</div>"
     },
     "execution_count": 13,
     "metadata": {},
     "output_type": "execute_result"
    }
   ],
   "source": [
    "GDE_Gene_Symbol = Translated_GDE[['To', 'Log2FoldChange', 'Ordered$pvalue']]\n",
    "GDE_Gene_Symbol = GDE_Gene_Symbol.rename(columns={'To':'Gene_Symbol', 'Ordered$pvalue': 'pvalue'})\n",
    "GDE_Gene_Symbol.head()"
   ],
   "metadata": {
    "collapsed": false,
    "pycharm": {
     "name": "#%%\n"
    }
   }
  },
  {
   "cell_type": "code",
   "execution_count": 17,
   "outputs": [],
   "source": [
    "GDE_Gene_Symbol.to_csv('../Data/GDE_Gene_Symbol.csv')"
   ],
   "metadata": {
    "collapsed": false,
    "pycharm": {
     "name": "#%%\n"
    }
   }
  },
  {
   "cell_type": "code",
   "execution_count": 19,
   "outputs": [
    {
     "data": {
      "text/plain": "   Unnamed: 0 Gene_Symbol  Log2FoldChange         pvalue\n0           0      FRG1BP       -3.895427  1.976371e-172\n1           1  ANKRD20A3P       -3.142684  4.389347e-131\n2           2         LEP       -5.703383  7.752915e-129\n3           3      SH3GL3       -3.256370  1.131555e-126\n4           4     CD300LG       -4.417230  1.166193e-125",
      "text/html": "<div>\n<style scoped>\n    .dataframe tbody tr th:only-of-type {\n        vertical-align: middle;\n    }\n\n    .dataframe tbody tr th {\n        vertical-align: top;\n    }\n\n    .dataframe thead th {\n        text-align: right;\n    }\n</style>\n<table border=\"1\" class=\"dataframe\">\n  <thead>\n    <tr style=\"text-align: right;\">\n      <th></th>\n      <th>Unnamed: 0</th>\n      <th>Gene_Symbol</th>\n      <th>Log2FoldChange</th>\n      <th>pvalue</th>\n    </tr>\n  </thead>\n  <tbody>\n    <tr>\n      <th>0</th>\n      <td>0</td>\n      <td>FRG1BP</td>\n      <td>-3.895427</td>\n      <td>1.976371e-172</td>\n    </tr>\n    <tr>\n      <th>1</th>\n      <td>1</td>\n      <td>ANKRD20A3P</td>\n      <td>-3.142684</td>\n      <td>4.389347e-131</td>\n    </tr>\n    <tr>\n      <th>2</th>\n      <td>2</td>\n      <td>LEP</td>\n      <td>-5.703383</td>\n      <td>7.752915e-129</td>\n    </tr>\n    <tr>\n      <th>3</th>\n      <td>3</td>\n      <td>SH3GL3</td>\n      <td>-3.256370</td>\n      <td>1.131555e-126</td>\n    </tr>\n    <tr>\n      <th>4</th>\n      <td>4</td>\n      <td>CD300LG</td>\n      <td>-4.417230</td>\n      <td>1.166193e-125</td>\n    </tr>\n  </tbody>\n</table>\n</div>"
     },
     "execution_count": 19,
     "metadata": {},
     "output_type": "execute_result"
    }
   ],
   "source": [
    "pd.read_csv(\"../Data/GDE_Gene_Symbol.csv\").head()"
   ],
   "metadata": {
    "collapsed": false,
    "pycharm": {
     "name": "#%%\n"
    }
   }
  }
 ],
 "metadata": {
  "kernelspec": {
   "display_name": "Python 3",
   "language": "python",
   "name": "python3"
  },
  "language_info": {
   "codemirror_mode": {
    "name": "ipython",
    "version": 2
   },
   "file_extension": ".py",
   "mimetype": "text/x-python",
   "name": "python",
   "nbconvert_exporter": "python",
   "pygments_lexer": "ipython2",
   "version": "2.7.6"
  }
 },
 "nbformat": 4,
 "nbformat_minor": 0
}